{
 "cells": [
  {
   "cell_type": "markdown",
   "metadata": {},
   "source": [
    "---\n",
    " Computational Statistics | Summer 2020, M.Sc. in Economics, University of Bonn | [Sona Verdiyeva](https://github.com/s6soverd)\n",
    " \n",
    "---"
   ]
  },
  {
   "cell_type": "markdown",
   "metadata": {},
   "source": [
    "---\n",
    "## Table of Contents\n",
    "\n",
    "* [1. Bias and Variance tradeoff in Machine Learning](#bias)\n",
    "* [2. What is meant by \"high-dimensional\" and why OLS fails in estimating the parameters in such problems](#high-dim)\n",
    "* [3. LASSO doesn't have a closed form solution, or does it?](#solution)\n",
    "  * [3.1. Simulation Set-up 1: Shrinking OLS parameters: Are we getting better predictions?](#prediction)\n",
    "* [4. Ridge can assymptotically get close to zero, what about Lasso? ](#ridge)\n",
    "  * [4.1. Simulation Set-up 2: Simple linear regression visualization with Lasso and Ridge, as $\\lambda$ increases, what happens?](#lambda)\n",
    "* [5. Simulation Set-up 3: On average, when estimating the true zero-parameters accurately, which one performs better: Lasso, Ridge or OLS?](#zero)\n",
    "* [7. Simulation Set-up 4: How differently LASSO and Ridge handles covariates with differential variances](#covariate)\n",
    "* [8. Simulation Set-up 5: And what about correlated covariates? How differently, LASSO and Ridge behaves:](#corr)\n",
    "* [9. Empirical Application: Using LASSO in \"high-dimensional data\" setting](#application)\n",
    "* [10. Conclusion](#conclusion)\n",
    "* [11. References](#references)\n",
    "---\n",
    "   "
   ]
  },
  {
   "cell_type": "markdown",
   "metadata": {},
   "source": [
    "---\n",
    "# 1. Bias and Variance tradeoff in Machine Learning <a class=\"anchor\" id=\"bias\"></a>\n",
    "---"
   ]
  },
  {
   "cell_type": "markdown",
   "metadata": {},
   "source": [
    "The inability of a machine learning method to capture the true relationship between the dependent and independent variables is called **bias**. Given two methods, we can compare how much bias each has, by calculating their sum of squared residuals. In other words; $\\sum_{i = 1}^n (y_{i} - \\hat{y})^2$. The formulae is applied for the training set, to which we have fit the model. \n",
    "\n",
    "Using the fitted model, we can calculate predictions for the testing set. And the difference in sum of squared residuals for the training and test set is called **variance**. Thus, a model that overfits the training set is going to have a very low bias, but this low-bias will come at the high cost of variance; meaning less precise predictions for the testing, or rather, new dataset. \n",
    "\n",
    "Having higher variance means that the model is highly variable with respect to how well it is going to make predictions on the new datasets. It might sometimes do well, sometimes do terrible. A model with lower variance and high bias; on the other hand, will consistently give good predictions for different datasets due to having lower variance, but perhaps not great predictions, as it has a higher bias. "
   ]
  },
  {
   "cell_type": "markdown",
   "metadata": {},
   "source": [
    "In machine learning, the best algorithm has low bias, meaning, the method accurately models the true relationship, and has low variance, meaning, across different datasets, it consistently produces good predictions. And there are three commonly used Machine learning(also known as ML) methods that try to achieve that; namely:\n",
    "\n",
    " * Regularization\n",
    " * Boosting\n",
    " * Bagging\n",
    " \n",
    "And in what follows, I will solely focus on regularization out of the three above, and more specifically on LASSO(also known as Least Absolute Shrinkage and Selection Operator)."
   ]
  },
  {
   "cell_type": "markdown",
   "metadata": {},
   "source": [
    "---\n",
    "# 2. What is meant by \"high-dimensional\" and why OLS fails in estimating the parameters in such problems <a class=\"anchor\" id=\"high-dim\"></a>\n",
    "---"
   ]
  },
  {
   "cell_type": "markdown",
   "metadata": {},
   "source": [
    "The term \"high-dimensional\" refers to the case where we have more unknown parameters than the data available; mathematically, $p\\gg n$. \n",
    "\n",
    "OLS is helpless in estimating the parameters when the given number of unknown parameters are much higher than the available data points. To be able to estimate the parameters, the n should be at least p + 1. \n",
    "\n",
    "For $p > n$, the linear model, as we know $Y = X*\\beta^0 + \\epsilon$ has no unique solution, and the linear model is under-determined. As a matter of fact, the linear model or the above equation has infinitely many solutions. \n",
    "\n",
    "To illustrate my point, I will use a very simple linear model, the one with the intercept (or rather $\\beta_0$) and the slope (or rather $\\beta_1$). And we have, for simplicity, have just one data point available. Given these, it is apparent that our unknowns(p + 1) are more than the data points (n = 1). As said before, n should be at least p + 1, meaning, 2, in order to calculate the $\\beta_0$ and $\\beta_1$. The model that I suggest falls down to calculating:\n",
    "$Y = \\beta_0 + \\beta_1 * X_1$. \n",
    "From high-school algebra, we know that here $\\beta_1$ corresponds to the slope of the line, namely, *m*; and the $\\beta_0$ corresponds with the y-intercept, namely *b*. So in a way we can write the above model as:\n",
    "$y = b + m*x$. \n",
    "\n",
    "To calculate *m*,  we need to have 2 data points. However, here, we are given only 1 data point. "
   ]
  },
  {
   "cell_type": "code",
   "execution_count": 1,
   "metadata": {},
   "outputs": [
    {
     "data": {
      "image/png": "[encoded data removed]",
      "text/plain": [
       "plot without title"
      ]
     },
     "metadata": {},
     "output_type": "display_data"
    }
   ],
   "source": [
    "plot(x = 2, y = 5, xlim = c(0,20),ylim = c(0,20),type = \"p\", col = \"red\", pch = 16, xlab = \"x\", ylab = \"y\")\n",
    "abline(3, 1, col = \"blue\")\n",
    "abline(-1, 3, col = \"red\")\n",
    "abline(13, -4, col = \"green\")"
   ]
  },
  {
   "cell_type": "markdown",
   "metadata": {},
   "source": [
    "As it is apparent from the above plot, from the one data point, one can draw infinitely many different lines, all having the sum of squared residuals equal to zero; thus, there is no one unique $\\beta_0$ and $\\beta_1$ which minimizes the sum of sqaured residuals. Given this, we have infinitely many solutions; or more pessimistically, OLS doesn't have a solution for this rather simplified \"high-dimensional\" problem."
   ]
  },
  {
   "cell_type": "markdown",
   "metadata": {},
   "source": [
    "Thus, without any constraints or additional information, it is impossible to find a solution to the above problem. If we are given a constraint, out of many solutions, we can pick the one that satisfies that constraint, hence being the solution to the above problem. \n",
    "\n",
    "In this regard, regularization methods come at handy. Before delving into how LASSO is commonly sought after in problems of high-dimensional nature, I will discuss two assumptions that build the intutition behind LASSO.\n",
    " > Sparsity assumption\n",
    " \n",
    " > Basis Pursuit Linear program"
   ]
  },
  {
   "cell_type": "markdown",
   "metadata": {},
   "source": [
    "Sparsity assumption for an unknown vector means that  that vector has less number of non-zero elements; hence the name sparse. So the sparsity assumption for the true $\\beta$ is a constraint that results in beta having less number of non-zero elements. One way of doing this is to use *$l_0$*-norm. For a quick brush-up, the *$l_0$*-norm, *$l_1$*-norm and *$l_2$*-norm are defined as:\n",
    "\n",
    "---\n",
    "$$\\| \\beta \\|_0 = \\sum_{j = 1}^{p} I(\\beta_{j} \\neq 0) \\\\[1pt]\n",
    "\\| \\beta \\|_1 = \\sum_{j = 1}^{p} |\\beta_{j}| \\\\[1pt]\n",
    "\\| \\beta \\|_2 = \\sum_{j = 1}^{p} \\beta_{j}^2 \\\\[1pt] \n",
    "$$\n",
    "\n",
    "---\n",
    "\n",
    "\n",
    "\n"
   ]
  },
  {
   "cell_type": "markdown",
   "metadata": {},
   "source": [
    "Our *$l_{0}$*-norm constrained optimization looks like this:\n",
    "\n",
    "---\n",
    "$$\\underset{\\beta \\in \\mathbb{R}}{\\text{minimize}} \\\n",
    "\\| \\beta \\|_0 \\\\\n",
    "\\text{subject to} \\\n",
    " Y = X\\beta \\\\\n",
    "$$"
   ]
  },
  {
   "cell_type": "markdown",
   "metadata": {},
   "source": [
    "The above constrained optimization problem is like a best subset selection. However, when our p is quite large, then we need to look at $\\binom{p}{s}$ number of subsets, where $s \\leq n$, which is computationally infeasible. "
   ]
  },
  {
   "cell_type": "markdown",
   "metadata": {},
   "source": [
    "*Basis Pursuit Linear Program* uses *$l_1$*-norm to solve the equation:\n",
    "\n",
    "---\n",
    "$$\\underset{\\beta \\in \\mathbb{R}}{\\text{minimize}} \\\n",
    "\\| \\beta \\|_1 \\\\\n",
    "\\text{subject to} \\\n",
    " Y = X\\beta \\\\\n",
    "$$\n",
    "\n",
    "---\n"
   ]
  },
  {
   "cell_type": "markdown",
   "metadata": {},
   "source": [
    "Now, using a simplified example (Niharika,. G., (2018)), we can show how under sparsity assumption, one can solve under-determined linear equation. Suppose we have the below equation:\n",
    "$$ \\begin{bmatrix}\n",
    "       2\\\\[0.3em]\n",
    "       2 \\\\[0.3em]\n",
    "     \\end{bmatrix} = \\begin{bmatrix} \n",
    "                             2 & 1 & 0 \\\\[0.3em]\n",
    "                             2 & 0 & 1 \\\\[0.3em]\n",
    "                      \\end{bmatrix}  \\times   \\begin{bmatrix} \n",
    "                                              \\beta_1 \\\\[0.3em]\n",
    "                                              \\beta_2 \\\\[0.3em]\n",
    "                                              \\beta_3 \\\\[0.3em]\n",
    "                                             \\end{bmatrix}\n",
    "$$\n",
    "     "
   ]
  },
  {
   "cell_type": "markdown",
   "metadata": {},
   "source": [
    "Let's assume that the $\\beta$ has a sparse solution. To find the solution, we set certain components of the subset of $\\beta$ to zero such that equation holds. Here are some solutions:\n",
    "$$[\\beta_1 = 1, \\: \\beta_2 = 0, \\; \\beta_3 = 0], \\; \\| \\beta \\|_0 = 1, \\; \\| \\beta \\|_1 = 1 \\\\\n",
    "[\\beta_1 = 0, \\: \\beta_2 = 2, \\; \\beta_3 = 2], \\; \\| \\beta \\|_0 = 2, \\; \\| \\beta \\|_1 = 4\n",
    "$$"
   ]
  },
  {
   "cell_type": "markdown",
   "metadata": {},
   "source": [
    "The solution with the least number of non-zero elements is $[\\beta_1 = 1, \\: \\beta_2 = 0, \\; \\beta_3 = 0]$, since $\\| \\beta \\|_0 = 1 < \\| \\beta \\|_0 = 2$. And the solution of Basis Pursuit Linear Program is also the same for this particular equation; meaning $[\\beta_1 = 1, \\: \\beta_2 = 0, \\; \\beta_3 = 0]$, since $\\| \\beta \\|_1 = 1 < \\| \\beta \\|_1 = 4$."
   ]
  },
  {
   "cell_type": "markdown",
   "metadata": {},
   "source": [
    "In the proceeding section, I will discuss how shrinkage of coeffiecients, whose intution we built throughout this section, helps in finding a solution to high-dimensional problems, and LASSO's central role in it."
   ]
  },
  {
   "cell_type": "markdown",
   "metadata": {},
   "source": [
    "---\n",
    "# 3. LASSO doesn't have a closed form solution, or does it? <a class=\"anchor\" id=\"solution\"></a>\n",
    "---"
   ]
  },
  {
   "cell_type": "markdown",
   "metadata": {},
   "source": [
    "LASSO is a *$l_1$*-regularized regression method. It estimates the regression parameters by solving the below constrained optimization problem:\n",
    "\n",
    "---\n",
    "$$\\underset{\\beta \\in \\mathbb{R^{p}}}{\\text{minimize}} \\\n",
    "\\frac{1}{n}\\| Y - X\\beta \\|_2^2 \\\\\n",
    "\\text{subject to} \\\\\n",
    "\\| \\beta \\|_1 \\leq t\n",
    "$$\n",
    "\n",
    "---"
   ]
  },
  {
   "cell_type": "markdown",
   "metadata": {},
   "source": [
    "where $t$ is a upper-bound over $l_1$-norm. It is obvious from the inequality that if our $t \\geq \\hat{\\beta}^{OLS}$, then our LASSO estimate and OLS estimate are the same. Since OLS-estimated beta minimizes the sum of squared residuals and at the same time, satisfies the constraint as well. If our $t \\leq \\hat{\\beta}^{OLS}$, then LASSO will shrink the coefficients towards zero, or even set some to zero. \n",
    "\n",
    "The Lagrange function corresponding to the above constrained regression optimization is given below. For a quick note, Langrangian  of an optimization problem is the sum of objective function and its weighted constraints.\n",
    "\n",
    "---\n",
    "$$\\hat{\\beta(\\lambda)} = \\underset{\\beta \\in \\mathbb{R^{p}}}{\\text{arg min}} \\\n",
    "\\frac{1}{n}\\| Y - X\\beta \\|_2^2 + \\lambda\\| \\beta \\|_1 \\\\\n",
    "$$\n",
    "\n",
    "---"
   ]
  },
  {
   "cell_type": "markdown",
   "metadata": {},
   "source": [
    "where $\\lambda \\geq 0$ is a parameter that determines the intensity of shrinkage. Because the objective function above is not differentiable ($|x|$ has no derivative at 0, hence, not differentiable, same hold for $\\| \\beta \\|_1 = | \\beta |$), the LASSO has generally no closed form solution. However, in the case of single-variable model and orthonormal design matrix (basically, for each $i \\neq j,  \\: X_{i}^T X_{j} = 0$, meaning the variables are uncorrelated), a solution is derivable. \n",
    "In the paragraphs that follow, we will look at how to derive a LASSO solution for the single-variable case."
   ]
  },
  {
   "cell_type": "markdown",
   "metadata": {},
   "source": [
    "**Simple Linear Regression** \n",
    "\n",
    "Assume we have one predictor, $p = 1$, and also our predictor is standardized ($Y = X_1\\beta_1 + \\epsilon$). Then, the optimization problem is reduced down to finding the $\\hat{\\beta}^{LASSO}$ that is the solution to $\\underset{\\beta \\in \\mathbb{R^{p}}}{\\text{minimize}} \\\n",
    "\\frac{1}{n}\\| Y - X_1\\beta_1 \\|_2^2 + \\lambda| \\beta_1 |$. Then, from the Stationarity Condition of the Kuhn-Tucker, sub-differential of the Lagrangian function at the $\\hat{\\beta}^{LASSO}$ should contain zero. "
   ]
  },
  {
   "cell_type": "markdown",
   "metadata": {},
   "source": [
    "Sub-gradients of a convex function $f$ at $x$ is called subdifferential of $f$ at $x$, and is denoted as $sign(x)$. Subdifferential of $f = |x|$ is equal to:\n",
    "$$\n",
    "sign(x) =\n",
    "  \\begin{cases}\n",
    "    -1       & \\quad \\text{if } x < 0 \\\\\n",
    "    [-1, 1]  & \\quad \\text{if } x = 0 \\\\\n",
    "    1        & \\quad \\text{if } x > 0 \\\\\n",
    "  \\end{cases}\n",
    "$$\n",
    "  \n",
    "\n",
    "\n",
    "By the same token, sub-differential of $|\\beta_1|$ is equal to:\n",
    "$$\n",
    "sign(\\beta_1) = \n",
    "   \\begin{cases}\n",
    "    -1       & \\quad \\text{if } \\beta_1 < 0 \\\\\n",
    "    [-1, 1]  & \\quad \\text{if } \\beta_1 = 0 \\\\\n",
    "    1        & \\quad \\text{if } \\beta_1 > 0 \\\\\n",
    "  \\end{cases}\n",
    "$$"
   ]
  },
  {
   "cell_type": "markdown",
   "metadata": {},
   "source": [
    "Taking the sub-differential of the above Lagrangian:\n",
    "$$\n",
    "0 \\in -\\frac{2}{n}X_1^T(Y - X_1\\hat{\\beta_1}) + \\lambda sign(\\hat{\\beta_1})\n",
    "$$\n",
    "\n",
    "\n",
    "**Note**:\n",
    "\n",
    "Taking subdifferential of a differentiable function means taking its derivative.\n",
    "\n",
    "\n"
   ]
  },
  {
   "cell_type": "markdown",
   "metadata": {},
   "source": [
    "$$-\\frac{2}{n}X_1^T(Y - X_1\\hat{\\beta_1}) + \\lambda sign(\\hat{\\beta_1}) = 0 \\\\\n",
    "\\frac{1}{n}X_1^T(Y - X_1\\hat{\\beta_1}) = \\frac{\\lambda}{2} sign(\\hat{\\beta_1})\n",
    "$$\n",
    "As our predictor is standardized, $\\frac{1}{n}X_1^T X_1 = 1$\n",
    "\n",
    "To show how:\n",
    "\n",
    "---\n",
    "$$\n",
    "X_1^T = \\Bigg(\\frac{x_{1_1} - \\frac{x_{1_1}+\\dotsb+x_{1_n}}{n}}{\\sqrt[2]{\\frac{\\sum_{i = 1}^{n} (x_{1_i} - \\bar{x_1})^2}{n}}}  \\cdots \\frac{x_{1_n} - \\frac{x_{1_1}+\\dotsb+x_{1_n}}{n}}{\\sqrt[2]{\\frac{\\sum_{i = 1}^{n} (x_{1_i} - \\bar{x_1})^2}{n}}} \\Bigg) \\\\\n",
    "X_1 = \\begin{pmatrix} \n",
    "         \\frac{x_{1_1} - \\frac{x_{1_1}+\\dotsb+x_{1_n}}{n}}{\\sqrt[2]{\\frac{\\sum_{i = 1}^{n} (x_{1_i} - \\bar{x_1})^2}{n}}} \\\\\n",
    "         \\vdots \\\\\n",
    "         \\frac{x_{1_n} - \\frac{x_{1_1}+\\dotsb+x_{1_n}}{n}}{\\sqrt[2]{\\frac{\\sum_{i = 1}^{n} (x_{1_i} - \\bar{x_1})^2}{n}}} \\\\\n",
    "       \\end{pmatrix}        \n",
    "$$\n",
    "---\n",
    "\n"
   ]
  },
  {
   "cell_type": "markdown",
   "metadata": {},
   "source": [
    "For each data point of the variable $X_1$ we deduct the mean and divide by the standard deviation of the variable $X_1$ (so as to standardize the $X_1$). \n",
    "\n",
    "Multiplying $X_1^T X_1$, we get:\n",
    "$$ X_1^T X_1 = \\frac{(x_{1_1} - \\bar{x_1})^2 +\\dotsb+(x_{1_n} - \\bar{x_1})^2}{\\sqrt[2]{\\frac{\\sum_{i = 1}^{n} (x_{1_i} - \\bar{x_1})^2}{n}}} = \\frac{\\sum_{i = 1}^{n} (x_{1_i} - \\bar{x_1})^2}{\\sum_{i = 1}^{n} (x_{1_i} - \\bar{x_1})^2} \\times n = n\n",
    "$$\n",
    "\n",
    "Hence, $\\frac{1}{n} X_1^T X_1 = 1$\n"
   ]
  },
  {
   "cell_type": "markdown",
   "metadata": {},
   "source": [
    "Thus, $\\frac{1}{n}X_1^T(Y - X_1\\hat{\\beta_1}) = \\frac{\\lambda}{2} sign(\\hat{\\beta_1})$ simplifies to:\n",
    "\n",
    "\n",
    "$$\n",
    "\\hat{\\beta_1} = \\frac{1}{n}X_1^TY - \\frac{\\lambda}{2}sign(\\hat{\\beta_1}) \\\\\n",
    "$$\n",
    "\n",
    "From above we know that:\n",
    "\n",
    "---\n",
    "$$\n",
    "sign(\\hat{\\beta_1}) = -1 \\quad \\text{if } \\hat{\\beta_1} < 0, \\quad \\text{which leads to } \\frac{1}{n}X_1^TY - \\frac{\\lambda}{2}sign(\\hat{\\beta_1}) < 0   \\implies \\\\\n",
    "\\frac{1}{n}X_1^TY - \\frac{\\lambda}{2} (-1) < 0 \\implies \\\\\n",
    "\\frac{1}{n}X_1^TY < (-\\frac{\\lambda}{2})\n",
    "$$\n",
    "\n",
    "---\n",
    "\n",
    "---\n",
    "$$\n",
    "sign(\\hat{\\beta_1}) = [-1, 1] \\quad \\text{if } \\hat{\\beta_1} = 0, \\quad \\text{which leads to } \\frac{1}{n}X_1^TY - \\frac{\\lambda}{2} \\times [-1, 1] = 0 \\implies \\\\\n",
    "\\frac{1}{n}X_1^TY = \\frac{\\lambda}{2} \\times [-1, 1] \\implies \\\\\n",
    "\\frac{1}{n} \\mid X_1^TY \\mid \\leq \\frac{\\lambda}{2} \n",
    "$$\n",
    "\n",
    "---\n",
    "\n",
    "---\n",
    "$$\n",
    "sign(\\hat{\\beta_1}) = 1\\quad \\text{if } \\hat{\\beta_1} > 0, \\quad \\text{which leads to } \\frac{1}{n}X_1^TY - \\frac{\\lambda}{2}sign(\\hat{\\beta_1}) > 0   \\implies \\\\\n",
    "\\frac{1}{n}X_1^TY - \\frac{\\lambda}{2} \\times 1 > 0 \\implies \\\\\n",
    "\\frac{1}{n}X_1^TY > \\frac{\\lambda}{2}\n",
    "$$\n",
    "\n",
    "---\n",
    "\n",
    "Thus, \n",
    "\n",
    "---\n",
    "$$\n",
    "\\hat{\\beta_1}^{LASSO} = \n",
    "   \\begin{cases}\n",
    "     \\frac{1}{n}X_1^TY + \\frac{\\lambda}{2}      & \\quad \\text{if } \\frac{1}{n}X_1^TY < (-\\frac{\\lambda}{2})  \\\\\n",
    "      0  & \\quad \\text{if } \\frac{1}{n} \\mid X_1^TY \\mid \\leq \\frac{\\lambda}{2} \\\\\n",
    "      \\frac{1}{n}X_1^TY - \\frac{\\lambda}{2}        & \\quad \\text{if } \\frac{1}{n}X_1^TY > \\frac{\\lambda}{2} \\\\\n",
    "  \\end{cases}  \n",
    "$$\n",
    "\n",
    "---\n",
    "\n",
    "\n"
   ]
  },
  {
   "cell_type": "markdown",
   "metadata": {},
   "source": [
    "As it is apparent, our $\\hat{\\beta_1}^{OLS} = \\frac{1}{n}X_1^TY$. Thus, our $\\hat{\\beta_1}^{LASSO}$ is simply soft-thresholded by $\\frac{\\lambda}{2}$. For a quick brush-up, soft-thresholding refers to the shrinking of coefficients both positive and negative towards zero."
   ]
  },
  {
   "cell_type": "markdown",
   "metadata": {},
   "source": [
    "In the proceeding section, we will elucidate how shrinkage of OLS parameters, as we have derived above, helps getting better prediction error. "
   ]
  },
  {
   "cell_type": "markdown",
   "metadata": {},
   "source": [
    "---\n",
    "## 3.1. Simulation Set-up 1: Shrinking OLS parameters: Are we getting better predictions? <a class=\"anchor\" id=\"prediction\"></a>\n",
    "---"
   ]
  },
  {
   "cell_type": "markdown",
   "metadata": {},
   "source": [
    "*Simulation 1st - Finding out whether we get better predictions if we shrink OLS parameters by certain amount:*\n",
    "1. Generate n = 100 data points with error vector $\\epsilon_{n \\times 1} \\sim N(0, 1)$, $\\quad p = 10, \\quad \\beta = \\{1, 1, 1, 0.03, 0.03, 0.03, 0.05, 0, 0, 0\n",
    "\\}, \\quad X \\sim N_{p}(0, \\Sigma)$ and $Y = X \\beta + \\epsilon.$ Here $\\Sigma$ is a diagonal matrix, with values on the diagonal a sequence of values from between 1 and 2.\n",
    "2. Do the above step 100 times and gather all training datasets.\n",
    "3. For each set, fit OLS model.\n",
    "4. Generate one test set from the same distributions specified in the step 1.\n",
    "\n",
    "5. Calculate the fit of the testing set, based on, OLS parameters, including OLS parameters shrinked by $\\{0.01, 0.025, 0.05, 0.1, 0.2, 0.3\\}$ amounts"
   ]
  },
  {
   "cell_type": "code",
   "execution_count": 3,
   "metadata": {},
   "outputs": [
    {
     "name": "stderr",
     "output_type": "stream",
     "text": [
      "Warning message:\n",
      "\"package 'mvtnorm' was built under R version 3.6.3\""
     ]
    }
   ],
   "source": [
    "library(mvtnorm)"
   ]
  },
  {
   "cell_type": "code",
   "execution_count": 4,
   "metadata": {},
   "outputs": [],
   "source": [
    "# Dataset Generating function, with the above specifications\n",
    "gen_datasets = function(p, sample_size){\n",
    "    eps <- rnorm(n = sample_size, mean = 0, sd = 1)\n",
    "    beta.vec <- c(rep(1, 5), rep(0.03, 5), rep(0, 10))\n",
    "    X <- rmvnorm(n= sample_size, mean=rep(0, p), sigma=diag(sample(1:2, p, replace = T), nrow = p, ncol = p))\n",
    "    Y <- X %*% beta.vec + eps\n",
    "    return(data.frame(Y, X))  \n",
    "}\n"
   ]
  },
  {
   "cell_type": "markdown",
   "metadata": {},
   "source": [
    "---\n",
    "**Step 1:** Calculating Expected Prediction Error\n",
    "\n",
    "---"
   ]
  },
  {
   "cell_type": "markdown",
   "metadata": {},
   "source": [
    "Expected test MSE or prediction error refers to the average test MSE that we would obtain if we repeatedly estimated $f$ using a large number of training sets and tested each at $x_0$. The overall expected test MSE can be computed by averaging $E(y_0 - \\hat{f(x_0)})^2$ over all possible values of $x_0$ in the test set."
   ]
  },
  {
   "cell_type": "code",
   "execution_count": 5,
   "metadata": {},
   "outputs": [],
   "source": [
    "# The test set (the same test set, we will use throughout)\n",
    "\n",
    "test_set = gen_datasets(20, sample_size = 100)\n",
    "test_setX = test_set[, -1]\n",
    "test_setY = test_set[,  1]"
   ]
  },
  {
   "cell_type": "markdown",
   "metadata": {},
   "source": [
    "---\n",
    "**Expected Prediction Error**\n",
    "---"
   ]
  },
  {
   "cell_type": "code",
   "execution_count": 262,
   "metadata": {},
   "outputs": [],
   "source": [
    "\n",
    "# Expected Prediction Error\n",
    "error = function(p, sample_size){\n",
    "    \n",
    "    # Creating a training set \n",
    "    train_set = gen_datasets(p = p, sample_size = sample_size)\n",
    "    train_set$X = train_set[, -1]\n",
    "    \n",
    "    beta.ols = solve(t(as.matrix(train_set$X)) %*% as.matrix(train_set$X)) %*% t(as.matrix(train_set$X)) %*% as.matrix(train_set$Y)\n",
    "    lambdas = c(0.01, 0.025, 0.05, 0.1, 0.2, 0.3)\n",
    "    \n",
    "    # Calculating Parameters, when OLS estimators get shrinked by  different amounts indicated in the list -lambdas\n",
    "    beta.shrinked = NULL\n",
    "    for(i in 1:6){\n",
    "        beta.shrinked = append(beta.shrinked, data.frame(beta.ols - lambdas[i]))\n",
    "    }\n",
    "    beta.shrinked_models = data.frame(beta.shrinked)\n",
    "    colnames(beta.shrinked_models) = sprintf(\"OLS - %.3f\", lambdas) \n",
    "    \n",
    "    \n",
    "    \n",
    "    # Sum of errors for different parameter columns\n",
    "    # OLS\n",
    "  \n",
    "    ols.error = mean((as.matrix(test_setY) - (as.matrix(test_setX) %*% beta.ols))^2)\n",
    "    # OLS - shrinkage amount\n",
    "    ols.shrinked.errors = c()\n",
    "    for(i in 1:6){\n",
    "    \n",
    "        ols.shrinked.errors[i] = mean((as.matrix(test_setY) - (as.matrix(test_setX) %*% beta.shrinked_models[,i]))^2)\n",
    "    }\n",
    "    ols.shrinked.errors.df = matrix(ols.shrinked.errors, nrow = 1, ncol = 6)\n",
    "    colnames(ols.shrinked.errors.df) = sprintf(\"OLS - %.3f\", lambdas)\n",
    "    errors = cbind(ols.shrinked.errors.df, OLS = ols.error)\n",
    "    return(errors)\n",
    "}"
   ]
  },
  {
   "cell_type": "code",
   "execution_count": 264,
   "metadata": {},
   "outputs": [
    {
     "data": {
      "text/html": [
       "<table>\n",
       "<thead><tr><th></th><th scope=col>Expected Prediction Error</th></tr></thead>\n",
       "<tbody>\n",
       "\t<tr><th scope=row>OLS - 0.010</th><td>1.240657</td></tr>\n",
       "\t<tr><th scope=row>OLS - 0.025</th><td>1.252941</td></tr>\n",
       "\t<tr><th scope=row>OLS - 0.050</th><td>1.305309</td></tr>\n",
       "\t<tr><th scope=row>OLS - 0.100</th><td>1.529653</td></tr>\n",
       "\t<tr><th scope=row>OLS - 0.200</th><td>2.456767</td></tr>\n",
       "\t<tr><th scope=row>OLS - 0.300</th><td>4.021783</td></tr>\n",
       "\t<tr><th scope=row>OLS</th><td>1.240441</td></tr>\n",
       "</tbody>\n",
       "</table>\n"
      ],
      "text/latex": [
       "\\begin{tabular}{r|l}\n",
       "  & Expected Prediction Error\\\\\n",
       "\\hline\n",
       "\tOLS - 0.010 & 1.240657\\\\\n",
       "\tOLS - 0.025 & 1.252941\\\\\n",
       "\tOLS - 0.050 & 1.305309\\\\\n",
       "\tOLS - 0.100 & 1.529653\\\\\n",
       "\tOLS - 0.200 & 2.456767\\\\\n",
       "\tOLS - 0.300 & 4.021783\\\\\n",
       "\tOLS & 1.240441\\\\\n",
       "\\end{tabular}\n"
      ],
      "text/markdown": [
       "\n",
       "| <!--/--> | Expected Prediction Error |\n",
       "|---|---|\n",
       "| OLS - 0.010 | 1.240657 |\n",
       "| OLS - 0.025 | 1.252941 |\n",
       "| OLS - 0.050 | 1.305309 |\n",
       "| OLS - 0.100 | 1.529653 |\n",
       "| OLS - 0.200 | 2.456767 |\n",
       "| OLS - 0.300 | 4.021783 |\n",
       "| OLS | 1.240441 |\n",
       "\n"
      ],
      "text/plain": [
       "            Expected Prediction Error\n",
       "OLS - 0.010 1.240657                 \n",
       "OLS - 0.025 1.252941                 \n",
       "OLS - 0.050 1.305309                 \n",
       "OLS - 0.100 1.529653                 \n",
       "OLS - 0.200 2.456767                 \n",
       "OLS - 0.300 4.021783                 \n",
       "OLS         1.240441                 "
      ]
     },
     "metadata": {},
     "output_type": "display_data"
    }
   ],
   "source": [
    "library (plyr)\n",
    "rep.errors = replicate(100, error(p = 20, sample_size = 100), simplify = FALSE)\n",
    "df <- ldply(rep.errors, data.frame)\n",
    "\n",
    "expected.error = apply(df, 2, mean)\n",
    "simulation.result = data.frame(expected.error)\n",
    "rownames(simulation.result) = c(sprintf(\"OLS - %.3f\", lambdas), \"OLS\")\n",
    "colnames(simulation.result) = c(\"Expected Prediction Error\")\n",
    "simulation.result"
   ]
  },
  {
   "cell_type": "markdown",
   "metadata": {},
   "source": [
    "---\n",
    "**Step 2:** Calculating Bias and Variance of the Models\n",
    "\n",
    "---"
   ]
  },
  {
   "cell_type": "markdown",
   "metadata": {},
   "source": [
    "Expected Prediction Error is further decomposed into bias, variance and irreducible error:\n",
    "\n",
    "---\n",
    "$$\n",
    "EPE(Y, \\hat{f}(x)) = bias^2(\\hat{f}(x)) + var(\\hat{f}(x)) + \\sigma^2 \\implies \\\\\n",
    "EPE(Y, \\hat{f}(x)) = \\underbrace{\\left(f(x) - \\mathbb{E} \\left[ \\hat{f}(x) \\right]  \\right)^2}_{\\text{bias}^2 \\left(\\hat{f}(x) \\right)} +\n",
    "\\underbrace{\\mathbb{E} \\left[ \\left( \\hat{f}(x) - \\mathbb{E} \\left[ \\hat{f}(x) \\right] \\right)^2 \\right]}_{\\text{var} \\left(\\hat{f}(x) \\right)} + \\sigma^2\n",
    "$$\n",
    "\n",
    "---"
   ]
  },
  {
   "cell_type": "markdown",
   "metadata": {},
   "source": [
    "Below, we will calculate the bias and variance of the models. Bias refers to the mean of the squared difference between the expected prediction of our model and the true value which we are trying to predict. So, in a way, bias tries to measures how far away overall, our models' predictions are from the true value. To calculate the bias, I used the above test_set, and gathered 100 different training sets, upon which as different as 7 models are trained. This implies, for each model, we had 1 test set, 100 training sets. Upon the trained models, I trained the one test set we had. That is to say, for each model, we had $100 \\times 100$ predictions. 100 observations in the testing set, 100 modeled training set in each model. Afterwards, I calculated the average of the squared differences for each one of the 7 models, namely: \n",
    "\n",
    "---\n",
    "$$bias \\left(\\hat{f}(x) \\right) = \\frac{1}{n}\\sum_{i=1}^{n}(Y_{i} - mean(\\hat{Y}_{i} + \\dotsb + \\hat{Y}_{i}))^2$$\n",
    "\n",
    "---"
   ]
  },
  {
   "cell_type": "code",
   "execution_count": 291,
   "metadata": {},
   "outputs": [],
   "source": [
    "equation = function(p, sample_size){\n",
    "    #test_set = gen_datasets(10, sample_size = 100)\n",
    "    #test_setX = test_set[, -1]\n",
    "    #test_setY = test_set[,  1]\n",
    "    # Creating a training set \n",
    "    train_set = gen_datasets(p = p, sample_size = sample_size)\n",
    "    train_set$X = train_set[, -1]\n",
    "    \n",
    "    beta.ols = solve(t(as.matrix(train_set$X)) %*% as.matrix(train_set$X)) %*% t(as.matrix(train_set$X)) %*% as.matrix(train_set$Y)\n",
    "    lambdas = c(0.01, 0.025, 0.05, 0.1, 0.2, 0.3)\n",
    "    \n",
    "    # Calculating Parameters, when OLS estimators get shrinked by  different amounts indicated in the list -lambdas\n",
    "    beta.shrinked = NULL\n",
    "    for(i in 1:6){\n",
    "        beta.shrinked = append(beta.shrinked, data.frame(beta.ols - lambdas[i]))\n",
    "    }\n",
    "    beta.shrinked_models = data.frame(beta.shrinked)\n",
    "    colnames(beta.shrinked_models) = sprintf(\"OLS - %.3f\", lambdas) \n",
    "  \n",
    "    equation.ols = as.matrix(test_setX) %*% beta.ols\n",
    "    equation.ols.shrinked = NULL\n",
    "    for(i in 1:6){\n",
    "        \n",
    "        equation.ols.shrinked = append(equation.ols.shrinked, data.frame(as.matrix(test_setX) %*% beta.shrinked_models[, i]))\n",
    "    }\n",
    "    equation.ols.shrinked_fits = data.frame(equation.ols.shrinked)\n",
    "    colnames(equation.ols.shrinked_fits) = sprintf(\"OLS - %.3f\", lambdas)\n",
    "    yhats = cbind(equation.ols.shrinked_fits, OLS = equation.ols)\n",
    "    return(yhats)\n",
    "}"
   ]
  },
  {
   "cell_type": "code",
   "execution_count": null,
   "metadata": {},
   "outputs": [],
   "source": []
  },
  {
   "cell_type": "markdown",
   "metadata": {},
   "source": [
    "---\n",
    "**Bias**\n",
    "---"
   ]
  },
  {
   "cell_type": "code",
   "execution_count": 266,
   "metadata": {},
   "outputs": [],
   "source": [
    "bias = function(p, sample_size){\n",
    "    set.seed(1)\n",
    "    equation = replicate(n = 100, equation(p = p, sample_size = sample_size), simplify = FALSE)\n",
    "    total.sum = data.frame(matrix(nrow = 0, ncol = 7))\n",
    "    for(l in 1:100){\n",
    "        sum = c(rep(0, 7))\n",
    "        for(i in 1:100){\n",
    "            sum <- sum + equation[[i]][l,]\n",
    "    }\n",
    "        total.sum[nrow(total.sum) + 1, ] = sum\n",
    "    }\n",
    "    lambdas = c(0.01, 0.025, 0.05, 0.1, 0.2, 0.3)\n",
    "    colnames(total.sum) = c(sprintf(\"OLS - %.3f\", lambdas), \"OLS\")\n",
    "    mean.total.sum = total.sum / 100\n",
    "    \n",
    "    bias = apply((test_setY - mean.total.sum)^2, 2, mean)\n",
    "    return(bias)\n",
    "}"
   ]
  },
  {
   "cell_type": "code",
   "execution_count": 267,
   "metadata": {},
   "outputs": [],
   "source": [
    "simulated.bias = bias(p = 20, sample_size = 100)"
   ]
  },
  {
   "cell_type": "code",
   "execution_count": 268,
   "metadata": {},
   "outputs": [
    {
     "data": {
      "text/html": [
       "<table>\n",
       "<thead><tr><th></th><th scope=col>Bias of the models</th></tr></thead>\n",
       "<tbody>\n",
       "\t<tr><th scope=row>OLS - 0.010</th><td>0.9215981</td></tr>\n",
       "\t<tr><th scope=row>OLS - 0.025</th><td>0.9373001</td></tr>\n",
       "\t<tr><th scope=row>OLS - 0.050</th><td>0.9953652</td></tr>\n",
       "\t<tr><th scope=row>OLS - 0.100</th><td>1.2311021</td></tr>\n",
       "\t<tr><th scope=row>OLS - 0.200</th><td>2.1810025</td></tr>\n",
       "\t<tr><th scope=row>OLS - 0.300</th><td>3.7688050</td></tr>\n",
       "\t<tr><th scope=row>OLS</th><td>0.9191039</td></tr>\n",
       "</tbody>\n",
       "</table>\n"
      ],
      "text/latex": [
       "\\begin{tabular}{r|l}\n",
       "  & Bias of the models\\\\\n",
       "\\hline\n",
       "\tOLS - 0.010 & 0.9215981\\\\\n",
       "\tOLS - 0.025 & 0.9373001\\\\\n",
       "\tOLS - 0.050 & 0.9953652\\\\\n",
       "\tOLS - 0.100 & 1.2311021\\\\\n",
       "\tOLS - 0.200 & 2.1810025\\\\\n",
       "\tOLS - 0.300 & 3.7688050\\\\\n",
       "\tOLS & 0.9191039\\\\\n",
       "\\end{tabular}\n"
      ],
      "text/markdown": [
       "\n",
       "| <!--/--> | Bias of the models |\n",
       "|---|---|\n",
       "| OLS - 0.010 | 0.9215981 |\n",
       "| OLS - 0.025 | 0.9373001 |\n",
       "| OLS - 0.050 | 0.9953652 |\n",
       "| OLS - 0.100 | 1.2311021 |\n",
       "| OLS - 0.200 | 2.1810025 |\n",
       "| OLS - 0.300 | 3.7688050 |\n",
       "| OLS | 0.9191039 |\n",
       "\n"
      ],
      "text/plain": [
       "            Bias of the models\n",
       "OLS - 0.010 0.9215981         \n",
       "OLS - 0.025 0.9373001         \n",
       "OLS - 0.050 0.9953652         \n",
       "OLS - 0.100 1.2311021         \n",
       "OLS - 0.200 2.1810025         \n",
       "OLS - 0.300 3.7688050         \n",
       "OLS         0.9191039         "
      ]
     },
     "metadata": {},
     "output_type": "display_data"
    }
   ],
   "source": [
    "simulation.result.bias = data.frame(simulated.bias)\n",
    "colnames(simulation.result.bias) = c(\"Bias of the models\")\n",
    "simulation.result.bias"
   ]
  },
  {
   "cell_type": "markdown",
   "metadata": {},
   "source": [
    "---\n",
    "**Variance**\n",
    "---"
   ]
  },
  {
   "cell_type": "code",
   "execution_count": 292,
   "metadata": {},
   "outputs": [],
   "source": [
    "variance = function(p, sample_size){\n",
    "    # Creating 100 different training sets, train them, use the parameters on our test set\n",
    "    set.seed(1)\n",
    "    equation = replicate(n = 100, equation(p = p, sample_size = sample_size), simplify = FALSE)\n",
    "    # Amount by which we will shrink OLS parameters\n",
    "    lambdas = c(0.01, 0.025, 0.05, 0.1, 0.2, 0.3)\n",
    "    #A list of 100 dataframes, each corresponding to 100 predictions that we get for 1 observation from the testset, \n",
    "    # due to 100 generated trainset\n",
    "    #c = as.data.frame(matrix(nrow = 100, ncol = 7))\n",
    "    #colnames(c) <- c(sprintf(\"OLS - %.3f\", lambdas), \"OLS\")\n",
    "    #empty = replicate(n = 100, c, simplify = FALSE)\n",
    "\n",
    "    #for(l in 1:100){\n",
    "        #for(i in 1:100){\n",
    "            #empty[[l]][i,] = equation[[i]][l,]\n",
    "       # }\n",
    "    #} \n",
    "    # Finding the variance of each of the 7 models\n",
    "    variance = data.frame(matrix(nrow = 7, ncol = 100))\n",
    "    \n",
    "    rownames(variance) <- c(sprintf(\"OLS - %.3f\", lambdas), \"OLS\")\n",
    "    colnames(variance) <- c(sprintf(\"Variance %.1f\", seq(1, 100)))\n",
    "    for(i in 1:100){\n",
    "        variance[,i] = apply(equation[[i]], 2, var)\n",
    "    }\n",
    "    var.mult = (variance * p) / sample_size\n",
    "    ave.variance = apply(var.mult, 1, mean)  \n",
    "    return(ave.variance)\n",
    "    \n",
    "}"
   ]
  },
  {
   "cell_type": "code",
   "execution_count": 293,
   "metadata": {},
   "outputs": [],
   "source": [
    "simulated.variance = variance(p = 20, sample_size = 100)"
   ]
  },
  {
   "cell_type": "code",
   "execution_count": 294,
   "metadata": {},
   "outputs": [
    {
     "data": {
      "text/html": [
       "<table>\n",
       "<thead><tr><th></th><th scope=col>Variance of the models</th></tr></thead>\n",
       "<tbody>\n",
       "\t<tr><th scope=row>OLS - 0.010</th><td>1.923359</td></tr>\n",
       "\t<tr><th scope=row>OLS - 0.025</th><td>1.863502</td></tr>\n",
       "\t<tr><th scope=row>OLS - 0.050</th><td>1.769903</td></tr>\n",
       "\t<tr><th scope=row>OLS - 0.100</th><td>1.605814</td></tr>\n",
       "\t<tr><th scope=row>OLS - 0.200</th><td>1.370069</td></tr>\n",
       "\t<tr><th scope=row>OLS - 0.300</th><td>1.257572</td></tr>\n",
       "\t<tr><th scope=row>OLS</th><td>1.964804</td></tr>\n",
       "</tbody>\n",
       "</table>\n"
      ],
      "text/latex": [
       "\\begin{tabular}{r|l}\n",
       "  & Variance of the models\\\\\n",
       "\\hline\n",
       "\tOLS - 0.010 & 1.923359\\\\\n",
       "\tOLS - 0.025 & 1.863502\\\\\n",
       "\tOLS - 0.050 & 1.769903\\\\\n",
       "\tOLS - 0.100 & 1.605814\\\\\n",
       "\tOLS - 0.200 & 1.370069\\\\\n",
       "\tOLS - 0.300 & 1.257572\\\\\n",
       "\tOLS & 1.964804\\\\\n",
       "\\end{tabular}\n"
      ],
      "text/markdown": [
       "\n",
       "| <!--/--> | Variance of the models |\n",
       "|---|---|\n",
       "| OLS - 0.010 | 1.923359 |\n",
       "| OLS - 0.025 | 1.863502 |\n",
       "| OLS - 0.050 | 1.769903 |\n",
       "| OLS - 0.100 | 1.605814 |\n",
       "| OLS - 0.200 | 1.370069 |\n",
       "| OLS - 0.300 | 1.257572 |\n",
       "| OLS | 1.964804 |\n",
       "\n"
      ],
      "text/plain": [
       "            Variance of the models\n",
       "OLS - 0.010 1.923359              \n",
       "OLS - 0.025 1.863502              \n",
       "OLS - 0.050 1.769903              \n",
       "OLS - 0.100 1.605814              \n",
       "OLS - 0.200 1.370069              \n",
       "OLS - 0.300 1.257572              \n",
       "OLS         1.964804              "
      ]
     },
     "metadata": {},
     "output_type": "display_data"
    }
   ],
   "source": [
    "simulation.result.variance = data.frame(simulated.variance)\n",
    "colnames(simulation.result.variance) = c(\"Variance of the models\")\n",
    "simulation.result.variance"
   ]
  },
  {
   "cell_type": "markdown",
   "metadata": {},
   "source": [
    "---\n",
    "# 4.  Ridge can assymptotically get close to zero, what about Lasso? <a class=\"anchor\" id=\"ridge\"></a>\n",
    "---\n"
   ]
  },
  {
   "cell_type": "markdown",
   "metadata": {},
   "source": [
    "---\n",
    "## 4.1. Simulation Set-up 2: Simple linear regression visualization with Lasso and Ridge, as $\\lambda$ increases, what happens? <a class=\"anchor\" id=\"lambda\"></a>\n",
    "---\n"
   ]
  },
  {
   "cell_type": "markdown",
   "metadata": {},
   "source": [
    "*Simulation Set-up:*\n",
    "1. Generate a data set, with $\\epsilon \\sim \\mathscr{N}(0, 1), \\quad \\beta^{True} = 0.9, \\quad X \\sim \\mathscr{N}(1, 0.65), \\quad \\text{and} \\quad Y = X \\beta^{True} + \\epsilon$.\n",
    "\n",
    "2. Calculate sum of squared residuals, for each $\\beta^{Random}$ from a sequence of real values from -0.5 to 1:\n",
    "\n",
    "> **For OLS**\n",
    "$$\\frac{1}{n} \\sum_{i = 1}^{n} (Y_i - X_i \\beta^{Random})^2$$\n",
    "**For Ridge**\n",
    "$$\\frac{1}{n} \\sum_{i = 1}^{n} (Y_i - X_i \\beta^{Random})^2 + \\lambda \\times (\\beta^{Random})^2$$\n",
    "**For LASSO**\n",
    "$$\\frac{1}{n} \\sum_{i = 1}^{n} (Y_i - X_i \\beta^{Random})^2 + \\lambda \\times |\\beta^{Random}|$$\n"
   ]
  },
  {
   "cell_type": "markdown",
   "metadata": {},
   "source": [
    "The purpose of this simulation set-up is to show visually with the help of graphs, how LASSO, as $\\lambda$ increases, set certain parameters to zero, but Ridge, in the same scenario, only gets assymptotically close to zero. To show this in the 2-dimensional graph, I chose a simple linear regression, that doesn't have an intercept; namely, $\\beta_{0}$. It is completely possible to do the below visualizations if the true model also included an intercept; however, it is computationally cumbersome. Since then I needed to look at every combination of ($\\beta_0, \\beta_1$) the values of which one might get from -0.5 to 1 in $\\mathscr{R}^2$"
   ]
  },
  {
   "cell_type": "markdown",
   "metadata": {},
   "source": [
    "From algebra, we know that the graph of $|ax + b|$ has a kink. Thus, as $\\lambda$ increases, the latter part of the equation $\\lambda \\times |\\beta^{Random}|$ dominates $\\frac{1}{n} \\sum_{i = 1}^{n} (Y_i - X_i \\beta^{Random})^2$. So, in the case of LASSO, as $\\lambda$ increases, the graph of $\\frac{1}{n} \\sum_{i = 1}^{n} (Y_i - X_i \\beta^{Random})^2 + \\lambda \\times |\\beta^{Random}|$ gets close, in appearance, to the graph of $|ax + b|$; meaning, the LASSO graph gets to have a kink, and that kink stations at zero."
   ]
  },
  {
   "cell_type": "code",
   "execution_count": 1,
   "metadata": {},
   "outputs": [],
   "source": [
    "# Generate Data \n",
    "generate = function(sample_size){\n",
    "    eps = rnorm(n = sample_size, mean = 0, sd = 1)\n",
    "    beta.vec = c(0.9)\n",
    "    X = data.frame(X2 = rnorm(n = sample_size, mean = 1, sd = 0.65)) \n",
    "    Y = as.matrix(X) %*% beta.vec + eps\n",
    "    return(data.frame(Y, X))\n",
    "}"
   ]
  },
  {
   "cell_type": "markdown",
   "metadata": {},
   "source": [
    "**OLS**"
   ]
  },
  {
   "cell_type": "code",
   "execution_count": 2,
   "metadata": {},
   "outputs": [],
   "source": [
    "residuals = function(sample_size, slope){\n",
    "    # Generate the sample data\n",
    "    data = generate(sample_size = sample_size)\n",
    "    # Calculating sum of squared residuals divided by sample size\n",
    "    sr = mean((data$Y - as.matrix(data$X) %*% slope)**2)\n",
    "    return(sr)\n",
    "}"
   ]
  },
  {
   "cell_type": "code",
   "execution_count": 6,
   "metadata": {},
   "outputs": [],
   "source": [
    "visualization_ols = function(sample_size){\n",
    "    # Deciding a list of slopes\n",
    "    slopes = seq(-0.5, 1, by = 0.01)\n",
    "    # Calculate squared residuals for each one of the slopes\n",
    "    squared_residuals = c()\n",
    "    for(s in slopes){\n",
    "        sr = residuals(sample_size = sample_size, slope = s)\n",
    "        squared_residuals = append(squared_residuals, sr)\n",
    "    }\n",
    "    # The curve\n",
    "    a = data.frame(slopes, squared_residuals)   \n",
    "    ggplot(a, aes(x=slopes, y=squared_residuals)) + \n",
    "    geom_point(pch = 1) + \n",
    "    geom_smooth() +\n",
    "    labs(x=\"Slope Values\", y= \"Sum of Squared Residuals\", \n",
    "    title = expression(paste(\"OLS - Sum of squared Residuals  \", lambda == 0))) \n",
    "}"
   ]
  },
  {
   "cell_type": "code",
   "execution_count": 7,
   "metadata": {},
   "outputs": [
    {
     "name": "stderr",
     "output_type": "stream",
     "text": [
      "`geom_smooth()` using method = 'loess' and formula 'y ~ x'\n"
     ]
    },
    {
     "data": {
      "image/png": "[encoded data removed]",
      "text/plain": [
       "plot without title"
      ]
     },
     "metadata": {},
     "output_type": "display_data"
    }
   ],
   "source": [
    "# Visualization for OLS -Sum of squared Residuals, I specifically used a huge data set, to get that smooth curve\n",
    "visualization_ols(10000)"
   ]
  },
  {
   "cell_type": "markdown",
   "metadata": {},
   "source": [
    "**Ridge vs. LASSO**"
   ]
  },
  {
   "cell_type": "code",
   "execution_count": 8,
   "metadata": {},
   "outputs": [],
   "source": [
    "residuals_lasso = function(sample_size, slope, lambda){\n",
    "    # Generate the sample data\n",
    "    data = generate(sample_size = sample_size)\n",
    "    # Calculating sum of squared residuals + ridge penalty\n",
    "    lasso = mean((data$Y - as.matrix(data$X) %*% slope)**2) + lambda * abs(slope)         \n",
    "    return(lasso)\n",
    "}"
   ]
  },
  {
   "cell_type": "code",
   "execution_count": 9,
   "metadata": {},
   "outputs": [],
   "source": [
    "residuals_ridge = function(sample_size, slope, lambda){\n",
    "    # Generate the sample data\n",
    "    data = generate(sample_size = sample_size)\n",
    "    # Calculating sum of squared residuals + ridge penalty\n",
    "    ridge = mean((data$Y - as.matrix(data$X) %*% slope)**2) + lambda * (slope**2)         \n",
    "    return(ridge)\n",
    "}"
   ]
  },
  {
   "cell_type": "code",
   "execution_count": 14,
   "metadata": {},
   "outputs": [],
   "source": [
    "srs = function(sample_size, f){\n",
    "    # Calculates sum of sqrt residuals for each lambda\n",
    "    lambda = c(0, 1, 2, 4)\n",
    "    # Deciding a list of slopes\n",
    "    slopes = seq(-0.5, 1, by = 0.01)\n",
    "    # Calculate squared residuals for each one of the slopes\n",
    "    squared_residuals1 = c()\n",
    "    squared_residuals2 = c()\n",
    "    squared_residuals3 = c()\n",
    "    squared_residuals4 = c()\n",
    "    for(s in slopes){\n",
    "        sr1 = f(sample_size, slope = s, lambda = lambda[1])\n",
    "        sr2 = f(sample_size, slope = s, lambda = lambda[2])\n",
    "        sr3 = f(sample_size, slope = s, lambda = lambda[3])\n",
    "        sr4 = f(sample_size, slope = s, lambda = lambda[4])\n",
    "        squared_residuals1 = append(squared_residuals1, sr1)\n",
    "        squared_residuals2 = append(squared_residuals2, sr2)\n",
    "        squared_residuals3 = append(squared_residuals3, sr3)\n",
    "        squared_residuals4 = append(squared_residuals4, sr4)\n",
    "    }\n",
    "    # Gathers sqrt residuals rowwise in a data frame to be used in plot\n",
    "    vis.data.ridge1 = data.frame(slopes, sr = squared_residuals1)\n",
    "    vis.data.ridge2 = data.frame(slopes, sr = squared_residuals2)\n",
    "    vis.data.ridge3 = data.frame(slopes, sr = squared_residuals3)\n",
    "    vis.data.ridge4 = data.frame(slopes, sr = squared_residuals4)\n",
    "    data.set = bind_rows(vis.data.ridge1, vis.data.ridge2, vis.data.ridge3, vis.data.ridge4)\n",
    "    data.set$g = c(rep(\"lambda = 0\", length(slopes)), rep(\"lambda = 1\", length(slopes)),\n",
    "            rep(\"lambda = 2\", length(slopes)), rep(\"lambda = 4\", length(slopes)))\n",
    "    colnames(data.set) <- c(\"Slopes\", \"sr\", \"lambdas\")\n",
    "    \n",
    "    return(data.set)\n",
    "}"
   ]
  },
  {
   "cell_type": "code",
   "execution_count": 17,
   "metadata": {},
   "outputs": [],
   "source": [
    "vis.data.lasso = srs(100000, f = residuals_lasso)"
   ]
  },
  {
   "cell_type": "code",
   "execution_count": 19,
   "metadata": {},
   "outputs": [],
   "source": [
    "#install.packages(\"tidyverse\")\n",
    "#library(tidyverse)"
   ]
  },
  {
   "cell_type": "code",
   "execution_count": 21,
   "metadata": {},
   "outputs": [
    {
     "data": {
      "image/png": "[encoded data removed]",
      "text/plain": [
       "plot without title"
      ]
     },
     "metadata": {},
     "output_type": "display_data"
    }
   ],
   "source": [
    "# LASSO \n",
    "ggplot(vis.data.lasso, aes(x=Slopes, y=sr, color = lambdas)) + \n",
    "geom_line(size = 1.7) + \n",
    "labs(x=\"Slope Values\", y=\"Sum of Squared Residuals + lambda * |slope|\", \n",
    "       title = \"LASSO - Sum of squared Residuals\\n+ l1 penalty\") +\n",
    "labs(color = \"Lambda Values\") +\n",
    "scale_color_manual(labels = parse(text = c(\"lambda == 0\", \"lambda == 1\", \"lambda == 2\", \"lambda == 4\")),\n",
    "                   values = c(\"violet\", \"green\", \"red\", \"blue\")) +\n",
    "theme(legend.justification=c(1,0), legend.position=c(1, 0.80)) "
   ]
  },
  {
   "cell_type": "code",
   "execution_count": 22,
   "metadata": {},
   "outputs": [
    {
     "data": {
      "image/png": "[encoded data removed]",
      "text/plain": [
       "plot without title"
      ]
     },
     "metadata": {},
     "output_type": "display_data"
    }
   ],
   "source": [
    "# Ridge\n",
    "vis.data.ridge = srs(100000, f = residuals_ridge)\n",
    "ggplot(vis.data.ridge, aes(x=Slopes, y=sr, color = lambdas)) + \n",
    "geom_line(size = 1.7) + \n",
    "labs(x=\"Slope Values\", y=\"Sum of Squared Residuals + lambda * slope^2\", \n",
    "       title = \"RIDGE - Sum of squared Residuals\\n+ l2 penalty\") +\n",
    "labs(color = \"Lambda Values\") +\n",
    "scale_color_manual(labels = parse(text = c(\"lambda == 0\", \"lambda == 1\", \"lambda == 2\", \"lambda == 4\")),\n",
    "                   values = c(\"violet\", \"green\", \"red\", \"blue\")) +\n",
    "theme(legend.justification=c(1,0), legend.position=c(1, 0.80)) "
   ]
  },
  {
   "cell_type": "markdown",
   "metadata": {},
   "source": [
    "---\n",
    "# 5. Simulation Set-up 3: On average, when estimating the true zero-parameters, which one performs better: Lasso, Ridge or OLS? <a class=\"anchor\" id=\"zero\"></a>\n",
    "---"
   ]
  },
  {
   "cell_type": "markdown",
   "metadata": {},
   "source": [
    "**Simulation Set-up**:\n",
    "1."
   ]
  },
  {
   "cell_type": "markdown",
   "metadata": {},
   "source": [
    "**OLS**"
   ]
  },
  {
   "cell_type": "code",
   "execution_count": 27,
   "metadata": {},
   "outputs": [],
   "source": [
    "# Expected Prediction Error OLS\n",
    "epe.OLS = function(p, sample_size){\n",
    "    # Creating a training set \n",
    "    train_set = gen_datasets(p = p, sample_size = sample_size)\n",
    "    train_set$X = train_set[, -1]\n",
    "    beta.ols = solve(t(as.matrix(train_set$X)) %*% as.matrix(train_set$X)) %*% t(as.matrix(train_set$X)) %*% as.matrix(train_set$Y)\n",
    "    # Sum of errors for OLS\n",
    "    ols.error = mean((as.matrix(test_setY) - (as.matrix(test_setX) %*% beta.ols))**2)\n",
    "    # Number of Correct zero parameters\n",
    "    nzc = sum(beta.ols[11:20] == beta.vec[11:20])\n",
    "    \n",
    "    frame = cbind(nzc, ols.error)\n",
    "    colnames(frame) <- c(\"Number of correct zero coefficients\", \"Prediction Error OLS\")\n",
    "    return(frame)\n",
    "}"
   ]
  },
  {
   "cell_type": "code",
   "execution_count": 117,
   "metadata": {},
   "outputs": [
    {
     "data": {
      "text/html": [
       "<table>\n",
       "<thead><tr><th></th><th scope=col>Simulation Results: OLS</th></tr></thead>\n",
       "<tbody>\n",
       "\t<tr><th scope=row>Number of Correct Zero Coefficients</th><td>0.000000</td></tr>\n",
       "\t<tr><th scope=row>Expected Prediction Error OLS</th><td>1.317757</td></tr>\n",
       "</tbody>\n",
       "</table>\n"
      ],
      "text/latex": [
       "\\begin{tabular}{r|l}\n",
       "  & Simulation Results: OLS\\\\\n",
       "\\hline\n",
       "\tNumber of Correct Zero Coefficients & 0.000000\\\\\n",
       "\tExpected Prediction Error OLS & 1.317757\\\\\n",
       "\\end{tabular}\n"
      ],
      "text/markdown": [
       "\n",
       "| <!--/--> | Simulation Results: OLS |\n",
       "|---|---|\n",
       "| Number of Correct Zero Coefficients | 0.000000 |\n",
       "| Expected Prediction Error OLS | 1.317757 |\n",
       "\n"
      ],
      "text/plain": [
       "                                    Simulation Results: OLS\n",
       "Number of Correct Zero Coefficients 0.000000               \n",
       "Expected Prediction Error OLS       1.317757               "
      ]
     },
     "metadata": {},
     "output_type": "display_data"
    }
   ],
   "source": [
    "library (plyr)\n",
    "replication.OLS = replicate(100, epe.OLS(p = 20, sample_size = 100), simplify = FALSE)\n",
    "replication.OLS.df <- ldply(replication.OLS, data.frame)\n",
    "sim.epe = apply(replication.OLS.df, 2, mean)\n",
    "simulation.result.OLS = data.frame(sim.epe)\n",
    "rownames(simulation.result.OLS) = c(\"Number of Correct Zero Coefficients\", \"Expected Prediction Error OLS\")\n",
    "colnames(simulation.result.OLS) = c(\"Simulation Results: OLS\")\n",
    "simulation.result.OLS"
   ]
  },
  {
   "cell_type": "markdown",
   "metadata": {},
   "source": [
    "**Ridge vs. LASSO**"
   ]
  },
  {
   "cell_type": "code",
   "execution_count": 151,
   "metadata": {},
   "outputs": [],
   "source": [
    "#library(glmnet)"
   ]
  },
  {
   "cell_type": "code",
   "execution_count": 132,
   "metadata": {},
   "outputs": [],
   "source": [
    "epe.REG = function(p, sample_size){\n",
    "    train_set = gen_datasets(p = p, sample_size = sample_size)\n",
    "    train_set$X = train_set[, -1]\n",
    "    grid = seq(0, 1, by = 0.02)\n",
    "    beta.vec <- c(rep(1, 5), rep(0.03, 5), rep(0, 10))\n",
    "    ridge.model = glmnet(as.matrix(train_set$X), as.matrix(train_set$Y), alpha = 0, lambda = grid, intercept = FALSE, \n",
    "                         standardize = F)\n",
    "    lasso.model = glmnet(as.matrix(train_set$X), as.matrix(train_set$Y), alpha = 1, lambda = grid, intercept = FALSE, \n",
    "                         standardize = F)\n",
    "    cv.ridge.model = cv.glmnet(as.matrix(train_set$X), as.matrix(train_set$Y), alpha = 0, lambda = grid)\n",
    "    cv.lasso.model = cv.glmnet(as.matrix(train_set$X), as.matrix(train_set$Y), alpha = 1, lambda = grid)\n",
    "    best.lambda.ridge = cv.ridge.model$lambda.min\n",
    "    best.lambda.lasso = cv.lasso.model$lambda.min\n",
    "    ridge.pred.opt = predict(ridge.model, s = best.lambda.ridge, newx = as.matrix(test_setX))\n",
    "    lasso.pred.opt = predict(lasso.model, s = best.lambda.lasso, newx = as.matrix(test_setX))\n",
    "    ridge.coef.opt = predict(ridge.model, type = \"coefficients\", s = best.lambda.ridge)[1:21, ]\n",
    "    lasso.coef.opt = predict(lasso.model, type = \"coefficients\", s = best.lambda.lasso)[1:21, ]\n",
    "    nzc.ridge = sum(ridge.coef.opt[12:21] == beta.vec[11:20])\n",
    "    nzc.lasso = sum(lasso.coef.opt[12:21] == beta.vec[11:20])\n",
    "    pe.ridge = mean((test_setY - ridge.pred.opt)**2)\n",
    "    pe.lasso = mean((test_setY - lasso.pred.opt)**2)\n",
    "    frame.REG = cbind(nzc.ridge, pe.ridge, nzc.lasso, pe.lasso)\n",
    "    colnames(frame.REG) = c(\"Number of Correct Zero Coefficients Ridge\", \"Prediction Error Ridge\",\n",
    "                            \"Number of Correct Zero Coefficients LASSO\", \"Prediction Error LASSO\") \n",
    "    return(frame.REG)\n",
    "}"
   ]
  },
  {
   "cell_type": "code",
   "execution_count": 150,
   "metadata": {},
   "outputs": [
    {
     "data": {
      "text/html": [
       "<table>\n",
       "<thead><tr><th></th><th scope=col>Simulation Results: Ridge</th><th scope=col>Simulation Results: LASSO</th></tr></thead>\n",
       "<tbody>\n",
       "\t<tr><th scope=row>Number of Correct Zero Coefficients</th><td>0.000000</td><td>5.500000</td></tr>\n",
       "\t<tr><th scope=row>Expected Prediction Error</th><td>1.280872</td><td>1.189378</td></tr>\n",
       "</tbody>\n",
       "</table>\n"
      ],
      "text/latex": [
       "\\begin{tabular}{r|ll}\n",
       "  & Simulation Results: Ridge & Simulation Results: LASSO\\\\\n",
       "\\hline\n",
       "\tNumber of Correct Zero Coefficients & 0.000000 & 5.500000\\\\\n",
       "\tExpected Prediction Error & 1.280872 & 1.189378\\\\\n",
       "\\end{tabular}\n"
      ],
      "text/markdown": [
       "\n",
       "| <!--/--> | Simulation Results: Ridge | Simulation Results: LASSO |\n",
       "|---|---|---|\n",
       "| Number of Correct Zero Coefficients | 0.000000 | 5.500000 |\n",
       "| Expected Prediction Error | 1.280872 | 1.189378 |\n",
       "\n"
      ],
      "text/plain": [
       "                                    Simulation Results: Ridge\n",
       "Number of Correct Zero Coefficients 0.000000                 \n",
       "Expected Prediction Error           1.280872                 \n",
       "                                    Simulation Results: LASSO\n",
       "Number of Correct Zero Coefficients 5.500000                 \n",
       "Expected Prediction Error           1.189378                 "
      ]
     },
     "metadata": {},
     "output_type": "display_data"
    }
   ],
   "source": [
    "simulation.REG = apply(replicate(100, epe.REG(20, 100)), 2, mean)\n",
    "ridge.sim = data.frame(simulation.REG[1:2])\n",
    "lasso.sim = data.frame(simulation.REG[3:4])\n",
    "sim.res.reg = cbind(ridge.sim, lasso.sim)\n",
    "colnames(sim.res.reg) = c(\"Simulation Results: Ridge\", \"Simulation Results: LASSO\")\n",
    "rownames(sim.res.reg) = c(\"Number of Correct Zero Coefficients\", \"Expected Prediction Error\")\n",
    "sim.res.reg"
   ]
  },
  {
   "cell_type": "markdown",
   "metadata": {},
   "source": [
    "---\n",
    "## 6.1. Simulation Set-up 4: How differently LASSO and Ridge handles covariates with distinct variances <a class=\"anchor\" id=\"covariate\"></a>\n",
    "---"
   ]
  },
  {
   "cell_type": "markdown",
   "metadata": {},
   "source": [
    "**Simulation Set-up:**"
   ]
  },
  {
   "cell_type": "code",
   "execution_count": 155,
   "metadata": {},
   "outputs": [],
   "source": [
    "generate_data = function(p, n){\n",
    "    eps = rnorm(n = n, 0, 1)\n",
    "    X = rmvnorm(n= n, mean=rep(0, p), sigma=diag(seq(1, p) / 10, nrow = p, ncol = p))\n",
    "    beta.vec = c(rep(1, p))\n",
    "    Y = as.matrix(X) %*% beta.vec + eps\n",
    "    return(data.frame(Y, X))\n",
    "}"
   ]
  },
  {
   "cell_type": "code",
   "execution_count": 395,
   "metadata": {},
   "outputs": [],
   "source": [
    "coefs.var.lasso = function(p, n){\n",
    "    train_set = generate_data(p = p, n = n)\n",
    "    train_set$X = train_set[, -1]\n",
    "    grid = seq(0, 9, by = 0.05) \n",
    "    lasso.model = glmnet(as.matrix(train_set$X), as.matrix(train_set$Y), alpha = 1, lambda = grid, intercept = FALSE, \n",
    "                     standardize = F)\n",
    "    lasso.coef = data.frame(matrix(nrow = (p + 1), ncol = length(grid)))\n",
    "    for(g in grid){\n",
    "      lasso.coef[grid == g] = predict(lasso.model, type = \"coefficients\", s = g)[1:(p+1), ] \n",
    "    }\n",
    "    colnames(lasso.coef) = sprintf(\"lambda = %.2f\", grid)\n",
    "    rownames(lasso.coef) = c(\"Intercept\", sprintf(\"X%.f\", seq(1, p)))\n",
    "    parameters = lasso.coef[-1, ]\n",
    "    long.format = data.frame(values=matrix(t(parameters)), ind=colnames(parameters))\n",
    "    #parameters$var = c(rep(\"[0, 1]\", 10), rep(\"[1, 2]\", 10), rep(\"[2, 3]\", 10), rep(\"[3, 4]\", 10), rep(\"[4, 5]\", 10))\n",
    "    #parameters\n",
    "    long.format$lambdas = c(rep(grid, 50))\n",
    "    long.format$variance = c(rep(\"[0, 1]\", 10 * 181), rep(\"[1, 2]\", 10 * 181), rep(\"[2, 3]\", 10 * 181), \n",
    "                             rep(\"[3, 4]\", 10 * 181), rep(\"[4, 5]\", 10 * 181))\n",
    "    return(long.format)\n",
    "\n",
    "}"
   ]
  },
  {
   "cell_type": "code",
   "execution_count": 394,
   "metadata": {},
   "outputs": [],
   "source": [
    "coefs.var.ridge = function(p, n){\n",
    "    train_set = generate_data(p = p, n = n)\n",
    "    train_set$X = train_set[, -1]\n",
    "    grid = seq(0, 100, by = 0.05) \n",
    "    ridge.model = glmnet(as.matrix(train_set$X), as.matrix(train_set$Y), alpha = 0, lambda = grid, intercept = FALSE, \n",
    "                     standardize = F)\n",
    "    ridge.coef = data.frame(matrix(nrow = (p + 1), ncol = length(grid)))\n",
    "    for(g in grid){\n",
    "      ridge.coef[grid == g] = predict(ridge.model, type = \"coefficients\", s = g)[1:(p+1), ] \n",
    "    }\n",
    "    colnames(ridge.coef) = sprintf(\"lambda = %.2f\", grid)\n",
    "    rownames(ridge.coef) = c(\"Intercept\", sprintf(\"X%.f\", seq(1, p)))\n",
    "    parameters = ridge.coef[-1, ]\n",
    "    long.format = data.frame(values=matrix(t(parameters)), ind=colnames(parameters))\n",
    "    long.format$lambdas = c(rep(grid, 50))\n",
    "    long.format$variance = c(rep(\"[k = 1]\", 10 * length(grid)), rep(\"[k = 2]\", 10 * length(grid)), rep(\"[k = 3]\", 10 * length(grid)), \n",
    "                             rep(\"[k = 4]\", 10 * length(grid)), rep(\"[k = 5]\", 10 * length(grid)))\n",
    "    return(long.format)\n",
    "\n",
    "}"
   ]
  },
  {
   "cell_type": "code",
   "execution_count": 396,
   "metadata": {},
   "outputs": [],
   "source": [
    "visual.lasso.covariates = coefs.var.lasso(50, 1000)\n",
    "visual.ridge.covariates = coefs.var.ridge(50, 1000)\n",
    "grid.l = seq(0, 9, by = 0.05)\n",
    "grid.r = seq(0, 100, by = 0.05)\n",
    "visual.lasso.covariates$l = c(rep(seq(1, 50), each = length(grid.l)))\n",
    "visual.ridge.covariates$l = c(rep(seq(1, 50), each = length(grid.r)))"
   ]
  },
  {
   "cell_type": "code",
   "execution_count": 256,
   "metadata": {},
   "outputs": [],
   "source": [
    "#library(tidyverse)"
   ]
  },
  {
   "cell_type": "markdown",
   "metadata": {},
   "source": [
    "**LASSO**"
   ]
  },
  {
   "cell_type": "code",
   "execution_count": 398,
   "metadata": {},
   "outputs": [
    {
     "data": {
      "image/png": "[encoded data removed]",
      "text/plain": [
       "plot without title"
      ]
     },
     "metadata": {},
     "output_type": "display_data"
    }
   ],
   "source": [
    "# Solution Paths of Covariates with distinct variances\n",
    "ggplot(visual.lasso.covariates, aes(x=lambdas, y=values, color = variance, group = as.factor(l))) + \n",
    "geom_line(size = 1) + \n",
    "\n",
    "labs(x=parse(text = \"lambda\"), y=parse(text = \"hat(beta)(lambda)\"), \n",
    "       title = \"LASSO: Coefficients of Covariates\\nwith distinct variances\") +\n",
    "labs(color = \"Variance Range\") +\n",
    "scale_color_manual(labels = parse(text = c(\"omega^2 %in% list(0, 1)\", \"omega^2 %in% list(1, 2)\", \"omega^2 %in% list(2, 3)\", \n",
    "                                           \"omega^2 %in% list(3, 4)\", \"omega^2 %in% list(4, 5)\")),\n",
    "                   values = c(\"yellow\", \"green\", \"red\", \"blue\", \"violet\")) +\n",
    "theme(legend.justification=c(1,0), legend.position=c(1, 0.80)) \n"
   ]
  },
  {
   "cell_type": "markdown",
   "metadata": {},
   "source": [
    "**Ridge**"
   ]
  },
  {
   "cell_type": "code",
   "execution_count": 399,
   "metadata": {},
   "outputs": [
    {
     "data": {
      "image/png": "[encoded data removed]",
      "text/plain": [
       "plot without title"
      ]
     },
     "metadata": {},
     "output_type": "display_data"
    }
   ],
   "source": [
    "# Solution Paths of Covariates with distinct variances\n",
    "ggplot(visual.ridge.covariates, aes(x=lambdas, y=values, color = variance, group = as.factor(l))) + \n",
    "geom_line(size = 1) + \n",
    "\n",
    "labs(x=parse(text = \"lambda\"), y=parse(text = \"hat(beta)(lambda)\"), \n",
    "       title = \"Ridge: Coefficients of Covariates\\nwith distinct variances\") +\n",
    "labs(color = \"Variance Range\") +\n",
    "scale_color_manual(labels = parse(text = c(\"omega^2 %in% list(0, 1)\", \"omega^2 %in% list(1, 2)\", \"omega^2 %in% list(2, 3)\", \n",
    "                                           \"omega^2 %in% list(3, 4)\", \"omega^2 %in% list(4, 5)\")),\n",
    "                   values = c(\"yellow\", \"green\", \"red\", \"blue\", \"violet\")) +\n",
    "theme(legend.justification=c(1,0), legend.position=c(1, 0.80)) \n"
   ]
  },
  {
   "cell_type": "markdown",
   "metadata": {},
   "source": [
    "---\n",
    "## 6.2. Simulation Set-up 5: And what about correlated covariates? How differently, LASSO and Ridge behaves:\n",
    "<a class=\"anchor\" id=\"corr\"></a>\n",
    "---"
   ]
  },
  {
   "cell_type": "markdown",
   "metadata": {},
   "source": [
    "**Simulation Set-up:**"
   ]
  },
  {
   "cell_type": "code",
   "execution_count": 294,
   "metadata": {},
   "outputs": [],
   "source": [
    "cov_generator = function(k){\n",
    "    matrix_ones = matrix(1, nrow = 10, ncol = 10)\n",
    "    matrix_ind = diag(1, nrow = 10, ncol = 10)\n",
    "    mult1 = (k - 1) / 5\n",
    "    mult2 = (6 - k) / 5\n",
    "    cov = mult1 * matrix_ones + mult2 * matrix_ind\n",
    "    return(cov)\n",
    "}"
   ]
  },
  {
   "cell_type": "code",
   "execution_count": 305,
   "metadata": {},
   "outputs": [],
   "source": [
    "data_generator = function(sample_size){\n",
    "    eps = rnorm(n = sample_size, mean = 0, sd = 1)\n",
    "    X1 = rmvnorm(n = sample_size, mean = rep(0, 10), sigma = cov_generator(1))\n",
    "    X2 = rmvnorm(n = sample_size, mean = rep(0, 10), sigma = cov_generator(2))\n",
    "    X3 = rmvnorm(n = sample_size, mean = rep(0, 10), sigma = cov_generator(3))\n",
    "    X4 = rmvnorm(n = sample_size, mean = rep(0, 10), sigma = cov_generator(4))\n",
    "    X5 = rmvnorm(n = sample_size, mean = rep(0, 10), sigma = cov_generator(5))\n",
    "    X = data.frame(X1, X2, X3, X4, X5)\n",
    "    colnames(X) = sprintf(\"X%.f\", seq(1, 50))\n",
    "    beta.vec = c(rep(1, 50))\n",
    "    Y = as.matrix(X) %*% beta.vec + eps\n",
    "    return(data.frame(Y, X))\n",
    "}"
   ]
  },
  {
   "cell_type": "code",
   "execution_count": 336,
   "metadata": {},
   "outputs": [],
   "source": [
    "coefs.grid.collinear.lasso = function(sample_size){\n",
    "    train_set = data_generator(sample_size)\n",
    "    train_set$X = train_set[, -1]\n",
    "    grid = seq(0, 9, by = 0.05) \n",
    "    lasso.model = glmnet(as.matrix(train_set$X), as.matrix(train_set$Y), alpha = 1, lambda = grid, intercept = FALSE, \n",
    "                     standardize = F)\n",
    "    lasso.coef = data.frame(matrix(nrow = 51, ncol = length(grid)))\n",
    "    for(g in grid){\n",
    "      lasso.coef[grid == g] = predict(lasso.model, type = \"coefficients\", s = g)[1:51, ] \n",
    "    }\n",
    "    colnames(lasso.coef) = sprintf(\"lambda = %.2f\", grid)\n",
    "    rownames(lasso.coef) = c(\"Intercept\", sprintf(\"X%.f\", seq(1, 50)))\n",
    "    parameters = lasso.coef[-1, ]\n",
    "    long.format = data.frame(values=matrix(t(parameters)), ind=colnames(parameters))\n",
    "    long.format$group = c(rep(seq(1, 50), each = 181))\n",
    "    long.format$color = c(rep(\"[k = 1]\", 10 * 181), rep(\"[k = 2]\", 10 * 181), rep(\"[k = 3]\", 10 * 181), \n",
    "                             rep(\"[k = 4]\", 10 * 181), rep(\"[k = 5]\", 10 * 181))\n",
    "    long.format$lambdas = c(rep(grid, 50))\n",
    "    return(long.format)\n",
    "}"
   ]
  },
  {
   "cell_type": "code",
   "execution_count": 351,
   "metadata": {},
   "outputs": [],
   "source": [
    "coefs.grid.collinear.ridge = function(sample_size){\n",
    "    train_set = data_generator(sample_size)\n",
    "    train_set$X = train_set[, -1]\n",
    "    grid = seq(0, 100, by = 0.05) \n",
    "    ridge.model = glmnet(as.matrix(train_set$X), as.matrix(train_set$Y), alpha = 0, lambda = grid, intercept = FALSE, \n",
    "                     standardize = F)\n",
    "    ridge.coef = data.frame(matrix(nrow = 51, ncol = length(grid)))\n",
    "    for(g in grid){\n",
    "      ridge.coef[grid == g] = predict(ridge.model, type = \"coefficients\", s = g)[1:51, ] \n",
    "    }\n",
    "    colnames(ridge.coef) = sprintf(\"lambda = %.2f\", grid)\n",
    "    rownames(ridge.coef) = c(\"Intercept\", sprintf(\"X%.f\", seq(1, 50)))\n",
    "    parameters = ridge.coef[-1, ]\n",
    "    long.format = data.frame(values=matrix(t(parameters)), ind=colnames(parameters))\n",
    "    long.format$group = c(rep(seq(1, 50), each = length(grid)))\n",
    "    long.format$color = c(rep(\"[k = 1]\", 10 * length(grid)), rep(\"[k = 2]\", 10 * length(grid)), rep(\"[k = 3]\", 10 * length(grid)), \n",
    "                             rep(\"[k = 4]\", 10 * length(grid)), rep(\"[k = 5]\", 10 * length(grid)))\n",
    "    long.format$lambdas = c(rep(grid, 50))\n",
    "    return(long.format)\n",
    "}"
   ]
  },
  {
   "cell_type": "code",
   "execution_count": 352,
   "metadata": {},
   "outputs": [],
   "source": [
    "visual.lasso.collinear.covs = coefs.grid.collinear.lasso(1000)\n",
    "visual.ridge.collinear.covs = coefs.grid.collinear.ridge(1000)"
   ]
  },
  {
   "cell_type": "markdown",
   "metadata": {},
   "source": [
    "**LASSO**"
   ]
  },
  {
   "cell_type": "code",
   "execution_count": 392,
   "metadata": {},
   "outputs": [
    {
     "data": {
      "image/png": "[encoded data removed]",
      "text/plain": [
       "plot without title"
      ]
     },
     "metadata": {},
     "output_type": "display_data"
    }
   ],
   "source": [
    "ggplot(visual.lasso.collinear.covs, aes(x=lambdas, y=values, color = color, group = as.factor(group))) + \n",
    "geom_line(size = 1) + \n",
    "labs(x=parse(text = \"lambda\"), y=parse(text = \"hat(beta)(lambda)\")) +\n",
    "ggtitle(expression(paste(\"LASSO: Coefficients of \\nCorrelated Covariates across different \", lambda, \" values\"))) +\n",
    "labs(color = \"Collinearity\") +\n",
    "scale_color_manual(labels = parse(text = c(\"r == 0.0\", \"r == 0.2\", \"r == 0.4\", \"r == 0.6\", \"r == 0.8\")),\n",
    "                   values = c(\"yellow\", \"green\", \"red\", \"blue\", \"violet\")) +\n",
    "theme(legend.justification=c(1,0), legend.position=c(1, 0.80)) +\n",
    "coord_cartesian(xlim = c(0, 9), ) +\n",
    "theme(plot.margin = margin(0.9, 0.39, 0.9, 0.39, \"cm\"))"
   ]
  },
  {
   "cell_type": "markdown",
   "metadata": {},
   "source": [
    "**Ridge**"
   ]
  },
  {
   "cell_type": "code",
   "execution_count": 393,
   "metadata": {},
   "outputs": [
    {
     "data": {
      "image/png": "[encoded data removed]",
      "text/plain": [
       "plot without title"
      ]
     },
     "metadata": {},
     "output_type": "display_data"
    }
   ],
   "source": [
    "ggplot(visual.ridge.collinear.covs, aes(x=lambdas, y=values, color = color, group = as.factor(group))) + \n",
    "geom_line(size = 1) + \n",
    "labs(x=parse(text = \"lambda\"), y=parse(text = \"hat(beta)(lambda)\"), \n",
    "       title = expression(paste(\"Ridge: Coefficients of \\nCorrelated Covariates across different \", lambda, \" values\"))) +\n",
    "labs(color = \"Collinearity\") +\n",
    "scale_color_manual(labels = parse(text = c(\"r == 0.0\", \"r == 0.2\", \"r == 0.4\", \n",
    "                                           \"r == 0.6\", \"r == 0.8\")),\n",
    "                   values = c(\"yellow\", \"green\", \"red\", \"blue\", \"violet\")) +\n",
    "theme(legend.justification=c(1,0), legend.position=c(1, 0.80)) +\n",
    "coord_cartesian(xlim = c(0, 100)) +\n",
    "theme(plot.margin = margin(0.9, 0.39, 0.9, 0.39, \"cm\"))"
   ]
  }
 ],
 "metadata": {
  "kernelspec": {
   "display_name": "R",
   "language": "R",
   "name": "ir"
  },
  "language_info": {
   "codemirror_mode": "r",
   "file_extension": ".r",
   "mimetype": "text/x-r-source",
   "name": "R",
   "pygments_lexer": "r",
   "version": "3.6.1"
  }
 },
 "nbformat": 4,
 "nbformat_minor": 2
}
