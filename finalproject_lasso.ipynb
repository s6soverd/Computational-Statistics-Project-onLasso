{
 "cells": [
  {
   "cell_type": "markdown",
   "metadata": {},
   "source": [
    "---\n",
    " Computational Statistics | Summer 2020, M.Sc. in Economics, University of Bonn | [Sona Verdiyeva](https://github.com/s6soverd)\n",
    " \n",
    "---"
   ]
  },
  {
   "cell_type": "markdown",
   "metadata": {},
   "source": [
    "### Table of Contents\n",
    "\n",
    "* [1. Bias and Variance tradeoff in Machine Learning](#bias)\n",
    "* [2. What is meant by \"high-dimensional\" and why OLS fails in estimating the parameters in such problems](#high-dim)\n",
    "   "
   ]
  },
  {
   "cell_type": "markdown",
   "metadata": {},
   "source": [
    "---\n",
    "### 1. Bias and Variance tradeoff in Machine Learning <a class=\"anchor\" id=\"bias\"></a>\n",
    "---"
   ]
  },
  {
   "cell_type": "markdown",
   "metadata": {},
   "source": [
    "The inability of a machine learning method to capture the true relationship between the dependent and independent variables is called **bias**. Given two methods, we can compare how much bias each has, by calculating their sum of squared residuals. In other words; $\\sum_{i = 1}^n (y_{i} - \\hat{y})^2$. The formulae is applied for the training set, to which we have fit the model. \\\n",
    "Using the fitted model, we can calculate predictions for the testing set. And the difference in sum of squared residuals for the training and test set is called **variance**. Thus, a model that overfits the training set is going to have a very low bias, but this low-bias will come at the high cost of variance; meaning less precise predictions for the testing, or rather, new dataset. \\\n",
    "Having higher variance means that the model is highly variable with respect to how well it is going to make predictions on the new datasets. It might sometimes do well, sometimes do terrible. A model with lower variance and high bias; on the other hand, will consistently give good predictions for different datasets due to having lower variance, but perhaps not great predictions, as it has a higher bias. "
   ]
  },
  {
   "cell_type": "markdown",
   "metadata": {},
   "source": [
    "In machine learning, the best algorithm has low bias, meaning, the method accurately models the true relationship, and has low variance, meaning, across different datasets, it consistently produces good predictions. And there are three commonly used Machine learning(also known as ML) methods that try to achieve that; namely:\n",
    "\n",
    " * Regularization\n",
    " * Boosting\n",
    " * Bagging\n",
    " \n",
    "And in what follows, I will solely focus on regularization out of the three above, and more specifically on LASSO(also known as Least Absolute Shrinkage and Selection Operator)."
   ]
  },
  {
   "cell_type": "markdown",
   "metadata": {},
   "source": [
    "---\n",
    "### 2. What is meant by \"high-dimensional\" and why OLS fails in estimating the parameters in such problems <a class=\"anchor\" id=\"high-dim\"></a>\n",
    "---"
   ]
  },
  {
   "cell_type": "markdown",
   "metadata": {},
   "source": [
    "The term \"high-dimensional\" refers to the case where we have more unknown parameters than the data available; mathematically, $p\\gg n$. \\\n",
    "OLS is helpless in estimating the parameters when the given number of unknown parameters are much higher than the available data points. To be able to estimate the parameters, the n should be at least p + 1. \n",
    "For $p > n$, the linear model, as we know $Y = X*\\beta^0 + \\epsilon$ has no unique solution, and the linear model is under-determined. As a matter of fact, the linear model or the above equation has infinitely many solutions. \\\n",
    "To illustrate my point, I will use a very simple linear model, the one with the intercept (or rather $\\beta_0$) and the slope (or rather $\\beta_1$). And we have, for simplicity, have just one data point available. Given these, it is apparent that our unknowns(p = 1) are more than the data points (n = 1). As said before, n should be at least p + 1, meaning, 2, in order to calculate the $\\beta_0$ and $\\beta_1$. The model that I suggest falls down to calculating:\n",
    "$Y = \\beta_0 + \\beta_1 * X_1$. \n",
    "From high-school algebra, we know that here $\\beta_1$ corresponds to the slope of the line, namely, *m*; and the $\\beta_0$ corresponds with the y-intercept, namely *b*. So in a way we can write the above model as:\n",
    "$y = b + m*x$. \\\n",
    "To calculate *m*,  we need to have 2 data points. However, here, we are given only 1 data point. "
   ]
  },
  {
   "cell_type": "code",
   "execution_count": 19,
   "metadata": {},
   "outputs": [
    {
     "data": {
      "image/png": "[encoded data removed]",
      "text/plain": [
       "plot without title"
      ]
     },
     "metadata": {},
     "output_type": "display_data"
    }
   ],
   "source": [
    "plot(x = 2, y = 5, xlim = c(0,20),ylim = c(0,20),type = \"p\", col = \"red\", pch = 16, xlab = \"x\", ylab = \"y\")\n",
    "abline(3, 1, col = \"blue\")\n",
    "abline(-1, 3, col = \"red\")\n",
    "abline(13, -4, col = \"green\")"
   ]
  },
  {
   "cell_type": "markdown",
   "metadata": {},
   "source": [
    "As it is apparent from the above plot, from the one data point, one can draw infinitely many different lines, all having the sum of squared residuals equal to zero; thus, there is no one unique $\\beta_0$ and $\\beta_1$ which minimizes the sum of sqaured residuals. Given this, we have infinitely many solutions; or more pessimistically, OLS doesn't have a solution for this rather simplified \"high-dimensional\" problem."
   ]
  },
  {
   "cell_type": "code",
   "execution_count": null,
   "metadata": {},
   "outputs": [],
   "source": []
  }
 ],
 "metadata": {
  "kernelspec": {
   "display_name": "R",
   "language": "R",
   "name": "ir"
  },
  "language_info": {
   "codemirror_mode": "r",
   "file_extension": ".r",
   "mimetype": "text/x-r-source",
   "name": "R",
   "pygments_lexer": "r",
   "version": "3.6.1"
  }
 },
 "nbformat": 4,
 "nbformat_minor": 2
}
